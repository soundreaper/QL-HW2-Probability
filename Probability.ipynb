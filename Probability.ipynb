{
 "cells": [
  {
   "cell_type": "code",
   "execution_count": 76,
   "metadata": {},
   "outputs": [
    {
     "name": "stdout",
     "output_type": "stream",
     "text": [
      "Calculated Probability = 0.375\n",
      "Trial Probability = 0.3752249550089982\n"
     ]
    }
   ],
   "source": [
    "from random import choices\n",
    "\n",
    "def verify_head(prob_head, num_flips):\n",
    "    event = ['H', 'T']\n",
    "    weights = [prob_head, 1-prob_head]\n",
    "    outcome = []\n",
    "    grouped_outcome = []\n",
    "    successful_outcome = 0\n",
    "    \n",
    "    for _ in range(1, num_flips+1):\n",
    "        outcome.append(choices(event, weights))\n",
    "    \n",
    "    for i in range(0, len(outcome), 3):\n",
    "        grouped_outcome.append(outcome[i : i+3])\n",
    "    \n",
    "    for x in grouped_outcome:\n",
    "        if x[0][0] == 'H' and x[1][0] == 'H' and x[2][0] == 'T':\n",
    "            successful_outcome += 1\n",
    "        elif x[0][0] == 'H' and x[1][0] == 'T' and x[2][0] == 'H':\n",
    "            successful_outcome += 1\n",
    "        elif x[0][0] == 'T' and x[1][0] == 'H' and x[2][0] == 'H':\n",
    "            successful_outcome += 1\n",
    "            \n",
    "    return successful_outcome/len(grouped_outcome)\n",
    "\n",
    "# The probability for gettings heads of a fair coin is a = 0.5\n",
    "# This means the probability of gettings 2 heads and a tail is a * a * (1-a)\n",
    "# With 3 flips of the coin the probability is 3*(a^2(1-a)) = 3(a^2)-3(a^3)\n",
    "# If a = 0.5 then then probability is 3(0.5^2)-3(0.5^3)\n",
    "\n",
    "calculated_prob = 3*(0.5*0.5) - 3*(0.5*0.5*0.5)\n",
    "\n",
    "print('Calculated Probability = ' + str(calculated_prob))\n",
    "print('Trial Probability = ' + str(verify_head(0.5, 10002)))"
   ]
  }
 ],
 "metadata": {
  "kernelspec": {
   "display_name": "Python 3",
   "language": "python",
   "name": "python3"
  },
  "language_info": {
   "codemirror_mode": {
    "name": "ipython",
    "version": 3
   },
   "file_extension": ".py",
   "mimetype": "text/x-python",
   "name": "python",
   "nbconvert_exporter": "python",
   "pygments_lexer": "ipython3",
   "version": "3.7.4"
  }
 },
 "nbformat": 4,
 "nbformat_minor": 2
}
